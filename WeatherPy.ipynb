{
 "cells": [
  {
   "cell_type": "code",
   "execution_count": 1,
   "id": "0704f58c",
   "metadata": {},
   "outputs": [],
   "source": [
    "# Import the dependencies.\n",
    "import pandas as pd\n",
    "import matplotlib.pyplot as plt\n",
    "import numpy as np"
   ]
  },
  {
   "cell_type": "code",
   "execution_count": 2,
   "id": "c0599dcb",
   "metadata": {},
   "outputs": [
    {
     "data": {
      "text/plain": [
       "<zip at 0x1c409c4c480>"
      ]
     },
     "execution_count": 2,
     "metadata": {},
     "output_type": "execute_result"
    }
   ],
   "source": [
    "# Create a set of random latitude and longitude combinations.\n",
    "lats = np.random.uniform(low=-90.000, high=90.000, size=1500)\n",
    "lngs = np.random.uniform(low=-180.000, high=180.000, size=1500)\n",
    "lat_lngs = zip(lats, lngs)\n",
    "lat_lngs"
   ]
  },
  {
   "cell_type": "code",
   "execution_count": 3,
   "id": "84187d53",
   "metadata": {},
   "outputs": [],
   "source": [
    "# Add the latitudes and longitudes to a list.\n",
    "coordinates = list(lat_lngs)"
   ]
  },
  {
   "cell_type": "code",
   "execution_count": 4,
   "id": "be6c10c5",
   "metadata": {},
   "outputs": [
    {
     "data": {
      "text/plain": [
       "584"
      ]
     },
     "execution_count": 4,
     "metadata": {},
     "output_type": "execute_result"
    }
   ],
   "source": [
    "from citipy import citipy \n",
    "\n",
    "# Create a list for holding the cities.\n",
    "cities = []\n",
    "# Identify the nearest city for each latitude and longitude combination.\n",
    "for coordinate in coordinates:\n",
    "    city = citipy.nearest_city(coordinate[0], coordinate[1]).city_name\n",
    "    country = citipy.nearest_city(coordinate[0], coordinate[1]).country_code\n",
    "    #print(coordinate)\n",
    "    #print(coordinate[0],coordinate[1])\n",
    "    #print(city)\n",
    "    #print(country)\n",
    "    # If the city is unique, then we will add it to the cities list.\n",
    "    if city not in cities:\n",
    "        cities.append(city)\n",
    "# Print the city count to confirm sufficient count.\n",
    "len(cities)"
   ]
  },
  {
   "cell_type": "code",
   "execution_count": 5,
   "id": "2a08e37d",
   "metadata": {},
   "outputs": [
    {
     "name": "stdout",
     "output_type": "stream",
     "text": [
      "http://api.openweathermap.org/data/2.5/weather?units=Imperial&APPID=6c4b8c45157cffb506a8fb74d93ce2b1\n"
     ]
    }
   ],
   "source": [
    "# Import the requests library.\n",
    "import requests\n",
    "\n",
    "# Import the API key.\n",
    "from config import weather_api_key\n",
    "\n",
    "# Import the time library and the datetime module from the datetime library \n",
    "import time\n",
    "from datetime import datetime\n",
    "\n",
    "url = \"http://api.openweathermap.org/data/2.5/weather?units=Imperial&APPID=\" + weather_api_key\n",
    "print(url)\n",
    "# Create an empty list to hold the weather data.\n",
    "city_data = []\n",
    "\n",
    "# Print the beginning of the logging.\n",
    "#print(\"Beginning Data Retrieval     \")\n",
    "#print(\"-----------------------------\")\n",
    "\n",
    "# Create counters.\n",
    "record_count = 1\n",
    "set_count = 1\n",
    "# Loop through all the cities in our list.\n",
    "#for i in range(len(cities)):\n",
    "\n",
    "    # Group cities in sets of 50 for logging purposes.\n",
    "#    if (i % 50 == 0 and i >= 50):\n",
    "#        set_count += 1\n",
    "#        record_count = 1\n",
    "#        time.sleep(60)\n",
    "\n",
    "#    # Create endpoint URL with each city.\n",
    "#    city_url = url + \"&q=\" + cities[i]\n",
    "#    print(city_url)"
   ]
  },
  {
   "cell_type": "code",
   "execution_count": null,
   "id": "b371325d",
   "metadata": {},
   "outputs": [
    {
     "name": "stdout",
     "output_type": "stream",
     "text": [
      "Processing Record 2 of Set 1 | mataura\n",
      "Processing Record 3 of Set 1 | punta arenas\n",
      "Processing Record 4 of Set 1 | busselton\n",
      "Processing Record 5 of Set 1 | rikitea\n",
      "Processing Record 6 of Set 1 | bluff\n",
      "Processing Record 7 of Set 1 | bredasdorp\n",
      "Processing Record 8 of Set 1 | mount isa\n",
      "Processing Record 9 of Set 1 | butaritari\n",
      "Processing Record 10 of Set 1 | khatanga\n",
      "Processing Record 11 of Set 1 | ushuaia\n",
      "Processing Record 12 of Set 1 | santa isabel do rio negro\n",
      "Processing Record 13 of Set 1 | kapaa\n",
      "Processing Record 14 of Set 1 | svetlogorsk\n",
      "Processing Record 15 of Set 1 | east london\n",
      "Processing Record 16 of Set 1 | ribeira grande\n",
      "Processing Record 17 of Set 1 | podbelsk\n",
      "City not found. Skipping...\n",
      "Processing Record 18 of Set 1 | nouadhibou\n",
      "Processing Record 19 of Set 1 | awjilah\n",
      "Processing Record 20 of Set 1 | castelnaudary\n",
      "Processing Record 21 of Set 1 | rivadavia\n",
      "Processing Record 22 of Set 1 | jamestown\n",
      "Processing Record 23 of Set 1 | odweyne\n",
      "Processing Record 24 of Set 1 | atuona\n",
      "Processing Record 25 of Set 1 | carnarvon\n",
      "Processing Record 26 of Set 1 | port-gentil\n",
      "Processing Record 27 of Set 1 | bitung\n",
      "Processing Record 28 of Set 1 | hobart\n",
      "Processing Record 29 of Set 1 | port elizabeth\n",
      "Processing Record 30 of Set 1 | hermanus\n",
      "Processing Record 31 of Set 1 | mikuni\n",
      "Processing Record 32 of Set 1 | huescar\n",
      "Processing Record 33 of Set 1 | eirunepe\n",
      "Processing Record 34 of Set 1 | vaini\n",
      "Processing Record 35 of Set 1 | flinders\n",
      "Processing Record 36 of Set 1 | torbay\n",
      "Processing Record 37 of Set 1 | castro\n",
      "Processing Record 38 of Set 1 | maumere\n",
      "Processing Record 39 of Set 1 | narsaq\n",
      "Processing Record 40 of Set 1 | cabo san lucas\n",
      "Processing Record 41 of Set 1 | usva\n",
      "City not found. Skipping...\n",
      "Processing Record 42 of Set 1 | pankrushikha\n",
      "Processing Record 43 of Set 1 | dikson\n",
      "Processing Record 44 of Set 1 | menongue\n",
      "Processing Record 45 of Set 1 | tutoia\n",
      "Processing Record 46 of Set 1 | ahipara\n",
      "Processing Record 47 of Set 1 | mahebourg\n",
      "Processing Record 48 of Set 1 | la tuque\n",
      "Processing Record 49 of Set 1 | garowe\n",
      "Processing Record 50 of Set 1 | pisco\n",
      "Processing Record 51 of Set 1 | cape town\n"
     ]
    }
   ],
   "source": [
    "# Loop through all the cities in the list.\n",
    "for i, city in enumerate(cities):\n",
    "\n",
    "    # Group cities in sets of 50 for logging purposes.\n",
    "    if (i % 50 == 0 and i >= 50):\n",
    "        set_count += 1\n",
    "        record_count = 1\n",
    "        time.sleep(60)\n",
    "\n",
    "    # Create endpoint URL with each city.\n",
    "    city_url = url + \"&q=\" + city.replace(\" \",\"+\")\n",
    "    #print(city_url)\n",
    "    # Add 1 to the record count.\n",
    "    record_count += 1\n",
    "    # Log the URL, record, and set numbers and the city.\n",
    "    print(f\"Processing Record {record_count} of Set {set_count} | {city}\")\n",
    "    city_weather = requests.get(city_url).json()\n",
    "   \n",
    "\n",
    "    # Run an API request for each of the cities.\n",
    "    try:\n",
    "        # Parse the JSON and retrieve data.\n",
    "        # Parse out the needed data.\n",
    "        city_lat = city_weather[\"coord\"][\"lat\"]\n",
    "        city_lng = city_weather[\"coord\"][\"lon\"]\n",
    "        city_max_temp = city_weather[\"main\"][\"temp_max\"]\n",
    "        city_humidity = city_weather[\"main\"][\"humidity\"]\n",
    "        city_clouds = city_weather[\"clouds\"][\"all\"]\n",
    "        city_wind = city_weather[\"wind\"][\"speed\"]\n",
    "        city_country = city_weather[\"sys\"][\"country\"]\n",
    "        \n",
    "        # Convert the date to ISO standard.\n",
    "        city_date = datetime.utcfromtimestamp(city_weather[\"dt\"]).strftime('%Y-%m-%d %H:%M:%S')\n",
    "        \n",
    "        # Append the city information into city_data list.\n",
    "        city_data.append({\"City\": city.title(),\n",
    "                          \"Lat\": city_lat,\n",
    "                          \"Lng\": city_lng,\n",
    "                          \"Max Temp\": city_max_temp,\n",
    "                          \"Humidity\": city_humidity,\n",
    "                          \"Cloudiness\": city_clouds,\n",
    "                          \"Wind Speed\": city_wind,\n",
    "                          \"Country\": city_country,\n",
    "                          \"Date\": city_date})\n",
    "   \n",
    "    # If an error is experienced, skip the city.\n",
    "    except:\n",
    "        print(\"City not found. Skipping...\")\n",
    "        pass\n",
    "\n",
    "# Indicate that Data Loading is complete.\n",
    "print(\"-----------------------------\")\n",
    "print(\"Data Retrieval Complete      \")\n",
    "print(\"-----------------------------\")\n"
   ]
  },
  {
   "cell_type": "code",
   "execution_count": null,
   "id": "b5ca9437",
   "metadata": {},
   "outputs": [],
   "source": [
    "# Convert the array of dictionaries to a Pandas DataFrame.\n",
    "city_data_df = pd.DataFrame(city_data)\n",
    "city_data_df.head(10)"
   ]
  },
  {
   "cell_type": "code",
   "execution_count": null,
   "id": "1c0576ba",
   "metadata": {},
   "outputs": [],
   "source": [
    "# Create the output file (CSV).\n",
    "output_data_file = \"weather_data/cities.csv\"\n",
    "# Export the City_Data into a CSV.\n",
    "city_data_df.to_csv(output_data_file, index_label=\"City_ID\")"
   ]
  },
  {
   "cell_type": "code",
   "execution_count": null,
   "id": "fbd5d275",
   "metadata": {},
   "outputs": [],
   "source": []
  }
 ],
 "metadata": {
  "kernelspec": {
   "display_name": "Python 3 (ipykernel)",
   "language": "python",
   "name": "python3"
  },
  "language_info": {
   "codemirror_mode": {
    "name": "ipython",
    "version": 3
   },
   "file_extension": ".py",
   "mimetype": "text/x-python",
   "name": "python",
   "nbconvert_exporter": "python",
   "pygments_lexer": "ipython3",
   "version": "3.9.7"
  }
 },
 "nbformat": 4,
 "nbformat_minor": 5
}
